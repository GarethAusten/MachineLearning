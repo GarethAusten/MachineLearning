{
 "cells": [
  {
   "cell_type": "code",
   "execution_count": 1,
   "metadata": {},
   "outputs": [],
   "source": [
    "%load_ext autotime\n",
    "%load_ext autoreload\n",
    "%autoreload 2"
   ]
  },
  {
   "cell_type": "markdown",
   "metadata": {},
   "source": [
    "# Fast Differentiable Sorting and Ranking\n",
    "\n",
    "This is a [paper](https://arxiv.org/pdf/2002.08871.pdf) out of Google Brain proposing the first differentiable sorting and ranking operators that achieve a time complexity of _O(n log n)_ and a space complexity of _O(n)_. \n",
    "\n",
    "This is achieved by constructing differentiable sorting and ranking operators as projections onto the permutahedron, the convex hull of permutations, and using a reduction to isotonic optimization. \n",
    "\n",
    "## Preliminaries / Background\n",
    "\n",
    "Let $\\mathbf{\\theta} := (\\theta_{0}, ... , \\theta_n) \\in \\mathbf{R}^n$ where $\\mathbf{\\theta}$ can be thought of as a vector of scores or logits produced by a model. e.g., In a label ranking setting $\\theta$ might contain the scores for each of $n$ labels for the features $x$.\n",
    "\n",
    "A permutation of $[n]$ by $\\sigma = (\\sigma_0, ..., \\sigma_n)$ and it's inverse by $\\sigma^{-1}$ sometimes refering to $\\pi := \\sigma^{-1}$\n",
    "\n",
    "If a permutation $\\sigma$ is seen as a vector, it's denoted with bold as $\\mathbf{\\sigma} \\in [n]^n$. We denote the set of $n!$ permutations of $[n]$ by $\\Sigma$. Given a permutation $\\sigma \\in \\Sigma$ we denote the version of $\\mathbf{\\theta} = (\\theta_0, ..., \\theta_n) \\in \\mathbf{R}^n$ permuted according to $\\sigma$ by $\\theta_{\\sigma} := (\\theta_{\\sigma1}, ..., \\theta_{\\sigma n}) \\in \\mathbf{R}^n$. \n",
    "\n",
    "We define the reversing permutation by $\\rho := (n, n-1, ..., 1)$ or $\\mathbf{\\rho}$ in vector form. Given a set $S \\subseteq [n]$ and a vector $\\textbf{v} \\in \\mathbf{R}^n$ we denote the restriction of $v$ to $S$ by $v_{S}:= (v_i: i \\in S) \\in \\mathbf{R}^{|S|}$\n",
    "\n",
    "The **argsort** of $\\mathbf{\\theta}$ as the indices sorting $\\theta$ i.e., \n",
    "\n",
    "$$ \n",
    "\\sigma(\\mathbf{\\theta}) := (\\sigma_1(\\mathbf{\\theta}), ..., \\sigma_n(\\mathbf{\\theta}))\n",
    "$$\n",
    "\n",
    "where $\\theta_{\\sigma_1}(\\theta) \\geq ... \\geq \\theta_{\\sigma_n}(\\theta)$. If some of the coordinates of \\theta are equal, ties are broken arbitrarily. The sort of $\\theta$ is defined as the values of $\\theta$ in descending order i.e., \n",
    "\n",
    "$$\n",
    "s(\\theta) := \\theta_{\\sigma(\\theta)}\n",
    "$$\n",
    "\n",
    "The rank of $\\theta$ is defined as the function evaluatiing at coordinate $j$ to the position of $\\theta_j$ in the descending sort (smaller rank $r_j(\\theta)$ means that $\\theta_j$ has higher value). Formally equal to the argsorts inverse permutation:\n",
    "\n",
    "$$\n",
    "r(\\theta) := \\sigma^{-1}(\\theta)\n",
    "$$\n",
    "\n",
    "For instance, if $\\theta_3 \\geq \\theta_1 \\geq \\theta_2$ then $\\sigma(\\theta) = (3, 1 ,2)$ then $s(\\theta) = (\\theta_3, \\theta_1, \\theta_2)$ and $r{\\theta) = (2,3,1)$. All three operations can be computed in $O(n log n)$ time. \n",
    "\n",
    "## Sorting and Ranking as Linear Programs\n",
    "\n",
    "We show in this section how to cast sorting and ranking operations as linear programs over the permutahedron. To that end, we first formulate the argsort and ranking operations as optimization problems over the set of permutations $\\Sigma$. \n",
    "\n",
    "Discrete optimization formulations.\n",
    "\n",
    "For all $\\theta \\in \\mathbf{R}^n and \\rho = (n, n-1,..., 1)$ we have:\n",
    "\n",
    "$$\n",
    "\\sigma_{\\theta} = argmax(\\theta_{\\sigma}, \\rho)\n",
    "$$\n",
    "$$\n",
    "r(\\theta) = argmax(\\theta, \\rho_{\\pi})\n",
    "$$\n",
    "\n",
    "A proof is provided in B1. To obtain the continuous optimization problems, we introduce the permutahedron induced by a vector $\\textbf{w} \\in \\mathbf{R}^n$, the convex hull of permuatations of $w$.\n",
    "\n",
    "$$\n",
    "P(\\textbf{w}) := conv({\\textbf{w}_{\\sigma}: \\sigma \\in \\Sigma}) \\subset \\mathbf{R}^n\n",
    "$$\n",
    "\n",
    "**Linear Formulations:**\n",
    "\n",
    "For all $\\theta \\in \\mathbf{R}^n$ and $\\rho := (n, n-1,...,1)$ we have\n",
    "\n",
    "$$\n",
    "s(\\theta) = argmax(y, \\rho)\n",
    "$$\n",
    "$$\n",
    "r(\\theta) = argmax(y, -\\theta)\n",
    "$$"
   ]
  },
  {
   "cell_type": "code",
   "execution_count": null,
   "metadata": {},
   "outputs": [],
   "source": []
  }
 ],
 "metadata": {
  "kernelspec": {
   "display_name": "Python 3",
   "language": "python",
   "name": "python3"
  },
  "language_info": {
   "codemirror_mode": {
    "name": "ipython",
    "version": 3
   },
   "file_extension": ".py",
   "mimetype": "text/x-python",
   "name": "python",
   "nbconvert_exporter": "python",
   "pygments_lexer": "ipython3",
   "version": "3.6.9"
  }
 },
 "nbformat": 4,
 "nbformat_minor": 4
}

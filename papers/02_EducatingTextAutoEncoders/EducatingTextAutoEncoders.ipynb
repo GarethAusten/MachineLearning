{
 "cells": [
  {
   "cell_type": "code",
   "execution_count": 1,
   "metadata": {},
   "outputs": [],
   "source": [
    "%load_ext autoreload\n",
    "%autoreload 2\n",
    "%load_ext autotime"
   ]
  },
  {
   "cell_type": "markdown",
   "metadata": {},
   "source": [
    "# Educating Text AuteEncoders: Latent Representation Guidance via Denoising\n",
    "\n",
    "Link: [paper](https://arxiv.org/pdf/1905.12777.pdf)\n",
    "\n",
    "ArXiv Publish Date: 8 Feb 2020\n",
    "\n",
    "Key Contributions:\n",
    "\n",
    "* Authors show that it is possible to obtain a more robust latent space representation of text by augmenting Adversarial AutoEncoders with a denoising objective.\n",
    "* This new approach provides the best tradeoff between generation quality and reconstruction quality. \n",
    "\n",
    "Their Architecture:\n",
    "\n",
    "* Word embeddings of dim 512\n",
    "* Encoder E: Single-Layer LSTM (bidirectional) with a hidden size of 1024\n",
    "* Generator G: Single Layer LSTM (unidirectional) with a hidden size of 1024\n",
    "* Latent z: 128/256 - Projected and added to the word embeddings fed to the generator\n",
    "* The Discriminator D: An MLP with a single hidden layer of size 512\n",
    "* $\\lambda$ of the AAE models is set to 10 to ensure latent codes are indistinguisable from the prior\n",
    "\n",
    "Training/Testing: \n",
    "\n",
    "* Trained with the Adam optimizer (lr = 0.0005, $\\beta_1 = 0.5$ and $\\beta_2 = 0.999$)\n",
    "* For testing, noise is disabled and greedy decoding is used\n",
    "\n",
    "Potential Improvement Ideas:\n",
    "\n",
    "* Explore different architectures for the Encoder and Generator\n",
    "    + e.g., Transformers, SHA-RNN\n",
    "* Test out different decoding strategies e.g., Beam, Diverse Beam, Top-K, Nucleus Sampling\n",
    "* Transfer Learning: Use BERT as the encoder, GPT2 as a decoder :shrug: \n",
    "    "
   ]
  }
 ],
 "metadata": {
  "kernelspec": {
   "display_name": "Python 3",
   "language": "python",
   "name": "python3"
  },
  "language_info": {
   "codemirror_mode": {
    "name": "ipython",
    "version": 3
   },
   "file_extension": ".py",
   "mimetype": "text/x-python",
   "name": "python",
   "nbconvert_exporter": "python",
   "pygments_lexer": "ipython3",
   "version": "3.6.8"
  }
 },
 "nbformat": 4,
 "nbformat_minor": 4
}

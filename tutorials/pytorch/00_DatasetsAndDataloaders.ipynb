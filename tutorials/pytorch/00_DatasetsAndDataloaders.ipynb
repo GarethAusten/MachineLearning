{
 "cells": [
  {
   "cell_type": "code",
   "execution_count": 3,
   "metadata": {},
   "outputs": [],
   "source": [
    "%load_ext autoreload\n",
    "%autoreload 2"
   ]
  },
  {
   "cell_type": "markdown",
   "metadata": {},
   "source": [
    "# Getting Started with PyTorch DataSets and DataLoaders\n",
    "\n",
    "This tutorial is inspired by the official PyTorch [tutorial](https://pytorch.org/tutorials/beginner/data_loading_tutorial.html) on DataSets and Dataloaders which focuses on the use of `torchvision`. While tools like `Torchtext` are amazing if you have a specific use case, chances are you will want to have more control over how your data is handled which results in needing to write your own Dataset class. \n",
    "\n"
   ]
  },
  {
   "cell_type": "code",
   "execution_count": null,
   "metadata": {},
   "outputs": [],
   "source": []
  }
 ],
 "metadata": {
  "kernelspec": {
   "display_name": "Python 3",
   "language": "python",
   "name": "python3"
  },
  "language_info": {
   "codemirror_mode": {
    "name": "ipython",
    "version": 3
   },
   "file_extension": ".py",
   "mimetype": "text/x-python",
   "name": "python",
   "nbconvert_exporter": "python",
   "pygments_lexer": "ipython3",
   "version": "3.6.9"
  }
 },
 "nbformat": 4,
 "nbformat_minor": 4
}
